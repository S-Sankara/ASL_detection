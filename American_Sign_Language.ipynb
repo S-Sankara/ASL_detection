{
 "cells": [
  {
   "cell_type": "code",
   "execution_count": null,
   "id": "painful-decision",
   "metadata": {},
   "outputs": [],
   "source": [
    "#importing modules\n",
    "import cv2\n",
    "import numpy as np"
   ]
  },
  {
   "cell_type": "code",
   "execution_count": null,
   "id": "artistic-enlargement",
   "metadata": {},
   "outputs": [],
   "source": [
    "# initialising values\n",
    "whT = 320\n",
    "confThreshold = 0.5"
   ]
  },
  {
   "cell_type": "code",
   "execution_count": null,
   "id": "nuclear-project",
   "metadata": {},
   "outputs": [],
   "source": [
    "#loadimg obj names\n",
    "classesFile = 'obj.names'\n",
    "className = []\n",
    "with open(classesFile, 'rt') as f:\n",
    "    classNames = f.read().rstrip('\\n').split('\\n')"
   ]
  },
  {
   "cell_type": "code",
   "execution_count": null,
   "id": "exclusive-corps",
   "metadata": {},
   "outputs": [],
   "source": [
    "#importing yolo config and weighs\n",
    "modelConfiguration = 'yolov4-tiny-custom.cfg'\n",
    "modelWeights = 'yolov4-tiny-custom_best.weights'"
   ]
  },
  {
   "cell_type": "code",
   "execution_count": null,
   "id": "alternative-delivery",
   "metadata": {},
   "outputs": [],
   "source": [
    "#setting backend and target\n",
    "net = cv2.dnn.readNet(modelConfiguration, modelWeights)\n",
    "net.setPreferableBackend(cv2.dnn.DNN_BACKEND_OPENCV)\n",
    "net.setPreferableTarget(cv2.dnn.DNN_TARGET_CPU)"
   ]
  },
  {
   "cell_type": "code",
   "execution_count": null,
   "id": "potential-sustainability",
   "metadata": {},
   "outputs": [],
   "source": [
    "#function for object detection \n",
    "def findObjects(output, img):\n",
    "    hT, wT, cT = img.shape\n",
    "    bbox = []\n",
    "    classIds = []\n",
    "    confs = []\n",
    "\n",
    "    for output in outputs:\n",
    "        for det in output:\n",
    "            scores = det[5:]\n",
    "            classId = np.argmax(scores)\n",
    "            confidence = scores[classId]\n",
    "            if confidence > confThreshold:\n",
    "                w, h = int(det[2]*wT), int(det[3]*hT)\n",
    "                x, y = int((det[0]*wT)-w/2), int((det[1]*hT)-h/2)\n",
    "                bbox.append([x, y, w, h])\n",
    "                classIds.append(classId)\n",
    "                confs.append(float(confidence))\n",
    "\n",
    "    indices = cv2.dnn.NMSBoxes(bbox, confs, confThreshold, nms_threshold=0.3)\n",
    "    print(indices)\n",
    "    for i in indices:\n",
    "        i = i[0]\n",
    "        box = bbox[i]\n",
    "        x, y, w, h = box[0], box[1], box[2], box[3]\n",
    "        cv2.rectangle(img, (x, y), (x+w, y+h), (255, 0, 255), 2)\n",
    "        cv2.putText(img, f'{classNames[classIds[i]].upper()} {int(confs[i]*100)}%',\n",
    "                    (x, y-10), cv2.FONT_HERSHEY_SIMPLEX, 0.6, (255, 0, 255), 2)"
   ]
  },
  {
   "cell_type": "code",
   "execution_count": null,
   "id": "armed-guess",
   "metadata": {},
   "outputs": [],
   "source": [
    "#opencv code for loading video\n",
    "\n",
    "cap = cv2.VideoCapture('V.mp4')\n",
    "while True :\n",
    "#     img = cv2.imread('v.jpg')\n",
    "    success, img = cap.read()\n",
    "    img = cv2.resize(img, (600,600))\n",
    "    blob = cv2.dnn.blobFromImage(img, 1/255, (whT, whT), [0, 0, 0], 1, crop= False)\n",
    "    net.setInput(blob)\n",
    "\n",
    "    layerNames = net.getLayerNames()\n",
    "    outNames = [layerNames[i[0]-1] for i in net.getUnconnectedOutLayers()]\n",
    "    print(outNames)\n",
    "    \n",
    "    outputs = net.forward(outNames)\n",
    "    findObjects(outputs, img)\n",
    "\n",
    "    cv2.imshow('image', img)\n",
    "    if cv2.waitKey(1) == 27:\n",
    "        break\n",
    "cap.release()\n",
    "cv2.destroyAllWindows()"
   ]
  }
 ],
 "metadata": {
  "kernelspec": {
   "display_name": "Python 3",
   "language": "python",
   "name": "python3"
  },
  "language_info": {
   "codemirror_mode": {
    "name": "ipython",
    "version": 3
   },
   "file_extension": ".py",
   "mimetype": "text/x-python",
   "name": "python",
   "nbconvert_exporter": "python",
   "pygments_lexer": "ipython3",
   "version": "3.7.9"
  }
 },
 "nbformat": 4,
 "nbformat_minor": 5
}
